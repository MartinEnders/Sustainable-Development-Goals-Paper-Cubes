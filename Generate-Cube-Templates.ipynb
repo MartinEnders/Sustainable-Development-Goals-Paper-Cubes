{
 "cells": [
  {
   "cell_type": "markdown",
   "metadata": {},
   "source": [
    "# Create Paper Cube Templates for Sustainable Development Goals\n",
    "\n",
    "Icons from: https://www.un.org/sustainabledevelopment/news/communications-material/"
   ]
  },
  {
   "cell_type": "code",
   "execution_count": 111,
   "metadata": {},
   "outputs": [],
   "source": [
    "from PIL import Image, ImageDraw, ImageFilter\n",
    "import glob\n",
    "import math"
   ]
  },
  {
   "cell_type": "code",
   "execution_count": 105,
   "metadata": {},
   "outputs": [],
   "source": [
    "# Read Template and resize SGD-Icons\n",
    "cube_template = Image.open('cube_pages-to-jpg-0001.jpg')\n",
    "sdg_icon_file_list = glob.glob(\"icons/*.jpg\")\n",
    "\n",
    "sdg_icon_images = [Image.open(x).resize((334,334)) for x in sorted(sdg_icon_file_list)]"
   ]
  },
  {
   "cell_type": "code",
   "execution_count": 106,
   "metadata": {},
   "outputs": [
    {
     "name": "stdout",
     "output_type": "stream",
     "text": [
      "................."
     ]
    }
   ],
   "source": [
    "# Create Cubes with same SDG-Icon on each side\n",
    "side_positions = [(477,162), (477,501), (477,839), (477,1177), (138,839), (815,839)]\n",
    "\n",
    "for i, sdg_icon in enumerate(sdg_icon_images, start=1):\n",
    "    new_template = cube_template.copy()\n",
    "\n",
    "    for p in side_positions:\n",
    "        new_template.paste(sdg_icon, p)\n",
    "    \n",
    "    new_template.save(f'one-sdg-per-cube/{i}.png')\n",
    "    \n",
    "    a4im_size = 1500\n",
    "    a4im = Image.new('RGB',\n",
    "                 (int(a4im_size), int(a4im_size * math.sqrt(2))),\n",
    "                 (255, 255, 255))\n",
    "    a4im.paste(new_template, new_template.getbbox())\n",
    "    a4im.save(f'one-sdg-per-cube/{i}.pdf', 'PDF', resolution=600)\n",
    "    print(\".\",end='')\n",
    "    "
   ]
  },
  {
   "cell_type": "code",
   "execution_count": 117,
   "metadata": {},
   "outputs": [
    {
     "name": "stdout",
     "output_type": "stream",
     "text": [
      "..."
     ]
    }
   ],
   "source": [
    "# Create Cubes with different SDG-Icons on the sides\n",
    "side_positions = [(477,162), (477,501), (477,839), (477,1177), (138,839), (815,839)]\n",
    "\n",
    "# Distribute 17 sdgs to 4 cubes\n",
    "cubes = [ \n",
    "    sdg_icon_images[0:6],\n",
    "    sdg_icon_images[6:12],\n",
    "    sdg_icon_images[12:17]+[sdg_icon_images[0]]\n",
    "]\n",
    "\n",
    "\n",
    "for i, cube in enumerate(cubes, start=1):\n",
    "    new_template = cube_template.copy()\n",
    "    for side,p in zip(cube, side_positions):\n",
    "        new_template.paste(side, p)\n",
    "        \n",
    "    new_template.save(f'multiple-sdgs-per-cube/{i}.png')\n",
    "    \n",
    "    a4im_size = 1500\n",
    "    a4im = Image.new('RGB',\n",
    "                 (int(a4im_size), int(a4im_size * math.sqrt(2))),\n",
    "                 (255, 255, 255))\n",
    "    a4im.paste(new_template, new_template.getbbox())\n",
    "    a4im.save(f'multiple-sdgs-per-cube/{i}.pdf', 'PDF', resolution=600)\n",
    "    print(\".\",end='')\n",
    "    "
   ]
  },
  {
   "cell_type": "code",
   "execution_count": null,
   "metadata": {},
   "outputs": [],
   "source": []
  }
 ],
 "metadata": {
  "kernelspec": {
   "display_name": "Python 3",
   "language": "python",
   "name": "python3"
  },
  "language_info": {
   "codemirror_mode": {
    "name": "ipython",
    "version": 3
   },
   "file_extension": ".py",
   "mimetype": "text/x-python",
   "name": "python",
   "nbconvert_exporter": "python",
   "pygments_lexer": "ipython3",
   "version": "3.7.3"
  }
 },
 "nbformat": 4,
 "nbformat_minor": 4
}
