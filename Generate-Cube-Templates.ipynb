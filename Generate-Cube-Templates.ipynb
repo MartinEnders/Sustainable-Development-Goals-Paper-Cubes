{
 "cells": [
  {
   "cell_type": "markdown",
   "metadata": {},
   "source": [
    "# Create Paper Cube Templates for Sustainable Development Goals\n",
    "\n",
    "Icons from: https://www.un.org/sustainabledevelopment/news/communications-material/"
   ]
  },
  {
   "cell_type": "code",
   "execution_count": 1,
   "metadata": {},
   "outputs": [],
   "source": [
    "from PIL import Image, ImageDraw, ImageFilter\n",
    "import glob\n",
    "import math"
   ]
  },
  {
   "cell_type": "code",
   "execution_count": 2,
   "metadata": {},
   "outputs": [],
   "source": [
    "# Read Template and resize SGD-Icons\n",
    "cube_template = Image.open('cube_pages-to-jpg-0001.jpg')\n",
    "sdg_icon_file_list = glob.glob(\"icons/*.jpg\")\n",
    "\n",
    "sdg_icon_images = [Image.open(x).resize((334,334)) for x in sorted(sdg_icon_file_list)]"
   ]
  },
  {
   "cell_type": "code",
   "execution_count": 3,
   "metadata": {},
   "outputs": [
    {
     "name": "stdout",
     "output_type": "stream",
     "text": [
      "................."
     ]
    }
   ],
   "source": [
    "# Create Cubes with same SDG-Icon on each side\n",
    "side_positions = [(477,162), (477,501), (477,839), (477,1177), (138,839), (815,839)]\n",
    "\n",
    "for i, sdg_icon in enumerate(sdg_icon_images, start=1):\n",
    "    new_template = cube_template.copy()\n",
    "\n",
    "    for p in side_positions:\n",
    "        new_template.paste(sdg_icon, p)\n",
    "    \n",
    "    new_template.save(f'one-sdg-per-cube/{i}.png')\n",
    "    \n",
    "    a4im_size = [int(x) for x in (new_template.width * 1.9, new_template.height * 1.9)]\n",
    "    new_template = new_template.resize(a4im_size)\n",
    "    new_template.save(f'one-sdg-per-cube/{i}.pdf', 'PDF', resolution=300)\n",
    "    print(\".\",end='')\n",
    "    "
   ]
  },
  {
   "cell_type": "code",
   "execution_count": 4,
   "metadata": {},
   "outputs": [
    {
     "name": "stdout",
     "output_type": "stream",
     "text": [
      "..."
     ]
    }
   ],
   "source": [
    "# Create Cubes with different SDG-Icons on the sides\n",
    "side_positions = [(477,162), (477,501), (477,839), (477,1177), (138,839), (815,839)]\n",
    "\n",
    "# Distribute 17 sdgs to 4 cubes\n",
    "cubes = [ \n",
    "    sdg_icon_images[0:6],\n",
    "    sdg_icon_images[6:12],\n",
    "    sdg_icon_images[12:17]+[sdg_icon_images[0]]\n",
    "]\n",
    "\n",
    "\n",
    "for i, cube in enumerate(cubes, start=1):\n",
    "    new_template = cube_template.copy()\n",
    "    for side,p in zip(cube, side_positions):\n",
    "        new_template.paste(side, p)\n",
    "        \n",
    "    new_template.save(f'multiple-sdgs-per-cube/{i}.png')\n",
    "    \n",
    "    a4im_size = [int(x) for x in (new_template.width * 1.9, new_template.height * 1.9)]\n",
    "    new_template = new_template.resize(a4im_size)\n",
    "    new_template.save(f'multiple-sdgs-per-cube/{i}.pdf', 'PDF', resolution=300)\n",
    "    print(\".\",end='')\n",
    "    "
   ]
  },
  {
   "cell_type": "code",
   "execution_count": 5,
   "metadata": {},
   "outputs": [],
   "source": [
    "# Create PDF-Files with all Cubes\n",
    "\n",
    "from PyPDF2 import PdfFileMerger\n",
    "\n",
    "def merge_pdfs(pdfs, filename):\n",
    "    merger = PdfFileMerger()\n",
    "\n",
    "    for pdf in pdfs:\n",
    "        merger.append(pdf)\n",
    "\n",
    "    merger.write(filename)\n",
    "    merger.close()\n",
    "    \n",
    "    \n",
    "merge_pdfs(glob.glob(\"multiple-sdgs-per-cube/*.pdf\"), 'summary-pdfs/multiple-sdgs-per-cube-combined.pdf')\n",
    "merge_pdfs(glob.glob(\"one-sdg-per-cube/*.pdf\"), 'summary-pdfs/single-sdg-per-cube-combined.pdf')\n",
    "\n",
    "merge_pdfs(glob.glob(\"multiple-sdgs-per-cube/*.pdf\") + glob.glob(\"one-sdg-per-cube/*.pdf\"), 'summary-pdfs/all-sdg-cubes-combined.pdf')\n",
    "\n"
   ]
  }
 ],
 "metadata": {
  "kernelspec": {
   "display_name": "Python 3",
   "language": "python",
   "name": "python3"
  },
  "language_info": {
   "codemirror_mode": {
    "name": "ipython",
    "version": 3
   },
   "file_extension": ".py",
   "mimetype": "text/x-python",
   "name": "python",
   "nbconvert_exporter": "python",
   "pygments_lexer": "ipython3",
   "version": "3.7.3"
  }
 },
 "nbformat": 4,
 "nbformat_minor": 4
}
